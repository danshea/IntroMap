{
 "cells": [
  {
   "cell_type": "markdown",
   "metadata": {},
   "source": [
    "* Daniel J. Shea\n",
    "* F15M006C\n",
    "* Niigata University, Dept. of Agriculture\n",
    "* Laboratory of Plant Breeding\n",
    "\n",
    "**2016-04-10:** `IntroMap` analyses of 3 synthetic hybridized genomes consisting of _B. oleracea_ introgressions in a _B. rapa_ background were analyzed for various parameter configurations to assess the True Positive Rate (TPR) and False Positive Rate (FPR) for the detection of introgressed genomic regions.\n",
    "\n",
    "| frac/threshold  | 0.05 | 0.01 |\n",
    "|------|------|------|\n",
    "| 0.85 | 0.75  , 0.00 | 0.9583, 0.0943 |\n",
    "| 0.90 | 0.7917, 0.00 | 0.9583, 0.0755 |\n",
    "| 0.95 | 0.7917, 0.00 | 0.9583, 0.2642 |\n",
    "\n",
    "Here, we create two Receiver Operating Characteristic (ROC) plots, one for frac=0.05 and frac=0.01 over varying threshold values from 0.85 to 0.95.\n",
    "\n",
    "Copyright (c) 2016, Daniel J. Shea, Niigata University, Dept. of Agriculture, Laboratory of Plant Breeding\n",
    "All rights reserved.\n",
    "\n",
    "Redistribution and use in source and binary forms, with or without modification, are permitted provided that the following conditions are met:\n",
    "\n",
    "1. Redistributions of source code must retain the above copyright notice, this list of conditions and the following disclaimer.\n",
    "\n",
    "2. Redistributions in binary form must reproduce the above copyright notice, this list of conditions and the following disclaimer in the documentation and/or other materials provided with the distribution.\n",
    "\n",
    "3. Neither the name of the copyright holder nor the names of its contributors may be used to endorse or promote products derived from this software without specific prior written permission.\n",
    "\n",
    "THIS SOFTWARE IS PROVIDED BY THE COPYRIGHT HOLDERS AND CONTRIBUTORS \"AS IS\" AND ANY EXPRESS OR IMPLIED WARRANTIES, INCLUDING, BUT NOT LIMITED TO, THE IMPLIED WARRANTIES OF MERCHANTABILITY AND FITNESS FOR A PARTICULAR PURPOSE ARE DISCLAIMED. IN NO EVENT SHALL THE COPYRIGHT HOLDER OR CONTRIBUTORS BE LIABLE FOR ANY DIRECT, INDIRECT, INCIDENTAL, SPECIAL, EXEMPLARY, OR CONSEQUENTIAL DAMAGES (INCLUDING, BUT NOT LIMITED TO, PROCUREMENT OF SUBSTITUTE GOODS OR SERVICES; LOSS OF USE, DATA, OR PROFITS; OR BUSINESS INTERRUPTION) HOWEVER CAUSED AND ON ANY THEORY OF LIABILITY, WHETHER IN CONTRACT, STRICT LIABILITY, OR TORT (INCLUDING NEGLIGENCE OR OTHERWISE) ARISING IN ANY WAY OUT OF THE USE OF THIS SOFTWARE, EVEN IF ADVISED OF THE POSSIBILITY OF SUCH DAMAGE."
   ]
  },
  {
   "cell_type": "code",
   "execution_count": 1,
   "metadata": {
    "collapsed": false
   },
   "outputs": [],
   "source": [
    "import numpy as np\n",
    "import matplotlib.pyplot as plt\n",
    "from matplotlib.patches import Ellipse\n",
    "%matplotlib inline"
   ]
  },
  {
   "cell_type": "code",
   "execution_count": 2,
   "metadata": {
    "collapsed": false
   },
   "outputs": [
    {
     "data": {
      "image/png": "[encoded data removed]",
      "text/plain": [
       "<matplotlib.figure.Figure at 0x7f9b3d876d90>"
      ]
     },
     "metadata": {},
     "output_type": "display_data"
    }
   ],
   "source": [
    "fpr_x = [0.00, 0.00, 0.00, 0.0943396226, 0.0754716981, 0.2641509434]\n",
    "tpr_y = [0.75, 0.7916666667, 0.7916666667, 0.9583333333, 0.9583333333, 0.9583333333]\n",
    "x = [i for i,j in sorted(zip(fpr_x, tpr_y))]\n",
    "y = [j for i,j in sorted(zip(fpr_x, tpr_y))]\n",
    "\n",
    "plt.title('Receiver Operating Characteristic')\n",
    "plt.xlabel('False Positive Rate (1-Specificity)')\n",
    "plt.ylabel('True Positive Rate (Sensitivity)')\n",
    "plt.axis([-0.005,1,0,1])\n",
    "plt.scatter(x, y, c='blue', marker='.')\n",
    "plt.plot([0,1],[0,1],'r--')\n",
    "ax = plt.gca()\n",
    "x0, y0 = ax.transAxes.transform((0, 0)) # lower left in pixels\n",
    "x1, y1 = ax.transAxes.transform((1, 1)) # upper right in pixes\n",
    "dx = x1 - x0\n",
    "dy = y1 - y0\n",
    "maxd = max(dx, dy)\n",
    "width = .025 * maxd / dx\n",
    "height = .025 * maxd / dy\n",
    "ax.add_artist(Ellipse((0.00,0.7916666667), width, height, color='green', clip_on=False, alpha=0.4))\n",
    "#xp = np.linspace(0,1,num=1000)\n",
    "#fit = np.polyfit(fpr_x,tpr_y,deg=2)\n",
    "#fit1d = np.poly1d(fit)\n",
    "#plt.plot(xp,fit1d(xp), 'b-')\n",
    "plt.plot([0]+x+[1],[0]+y+[0.9583333333],'b-')\n",
    "plt.savefig('IntroMapROCPlot.pdf', orientation='landscape', papertype='a4', bbox_inches='tight')\n",
    "plt.show()"
   ]
  },
  {
   "cell_type": "code",
   "execution_count": null,
   "metadata": {
    "collapsed": true
   },
   "outputs": [],
   "source": []
  }
 ],
 "metadata": {
  "kernelspec": {
   "display_name": "Python 2",
   "language": "python",
   "name": "python2"
  },
  "language_info": {
   "codemirror_mode": {
    "name": "ipython",
    "version": 2
   },
   "file_extension": ".py",
   "mimetype": "text/x-python",
   "name": "python",
   "nbconvert_exporter": "python",
   "pygments_lexer": "ipython2",
   "version": "2.7.13"
  }
 },
 "nbformat": 4,
 "nbformat_minor": 0
}
