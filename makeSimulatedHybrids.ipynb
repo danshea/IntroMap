{
 "cells": [
  {
   "cell_type": "markdown",
   "metadata": {},
   "source": [
    "* Daniel J. Shea\n",
    "* F15M006C\n",
    "* Niigata University, Dept. of Agriculture\n",
    "* Laboratory of Plant Breeding\n",
    "\n",
    "**2016-04-08:** \n",
    "\n",
    "This program will create simulated hybridized genomes for testing given the bol.fa and bra.fa fasta reference sequences and a file with known syntenic regions for each of the chromosomes in the bol and bra genomes.\n",
    "\n",
    "Copyright (c) 2016, Daniel J. Shea, Niigata University, Dept. of Agriculture, Laboratory of Plant Breeding\n",
    "All rights reserved.\n",
    "\n",
    "Redistribution and use in source and binary forms, with or without modification, are permitted provided that the following conditions are met:\n",
    "\n",
    "1. Redistributions of source code must retain the above copyright notice, this list of conditions and the following disclaimer.\n",
    "\n",
    "2. Redistributions in binary form must reproduce the above copyright notice, this list of conditions and the following disclaimer in the documentation and/or other materials provided with the distribution.\n",
    "\n",
    "3. Neither the name of the copyright holder nor the names of its contributors may be used to endorse or promote products derived from this software without specific prior written permission.\n",
    "\n",
    "THIS SOFTWARE IS PROVIDED BY THE COPYRIGHT HOLDERS AND CONTRIBUTORS \"AS IS\" AND ANY EXPRESS OR IMPLIED WARRANTIES, INCLUDING, BUT NOT LIMITED TO, THE IMPLIED WARRANTIES OF MERCHANTABILITY AND FITNESS FOR A PARTICULAR PURPOSE ARE DISCLAIMED. IN NO EVENT SHALL THE COPYRIGHT HOLDER OR CONTRIBUTORS BE LIABLE FOR ANY DIRECT, INDIRECT, INCIDENTAL, SPECIAL, EXEMPLARY, OR CONSEQUENTIAL DAMAGES (INCLUDING, BUT NOT LIMITED TO, PROCUREMENT OF SUBSTITUTE GOODS OR SERVICES; LOSS OF USE, DATA, OR PROFITS; OR BUSINESS INTERRUPTION) HOWEVER CAUSED AND ON ANY THEORY OF LIABILITY, WHETHER IN CONTRACT, STRICT LIABILITY, OR TORT (INCLUDING NEGLIGENCE OR OTHERWISE) ARISING IN ANY WAY OUT OF THE USE OF THIS SOFTWARE, EVEN IF ADVISED OF THE POSSIBILITY OF SUCH DAMAGE."
   ]
  },
  {
   "cell_type": "code",
   "execution_count": 1,
   "metadata": {
    "collapsed": true
   },
   "outputs": [],
   "source": [
    "from Bio import SeqIO, SeqRecord\n",
    "import random"
   ]
  },
  {
   "cell_type": "code",
   "execution_count": 2,
   "metadata": {
    "collapsed": true
   },
   "outputs": [],
   "source": [
    "def parseSynteny(syntenyEntry):\n",
    "    '''\n",
    "    Split up the entry read in from the synteny file and convert coordinates from 1-based\n",
    "    to 0-based python slice coordinates.\n",
    "    '''\n",
    "    # Split syntenyEntry into the following fields\n",
    "    #Num Chromosome Region Strand MappedChromosome MappedRegion\n",
    "    recnum, bChr, bRange, bStrand, iChr, iRange = syntenyEntry.split('\\t')\n",
    "    bStart, bStop = bRange.split('..')\n",
    "    bStart = int(bStart)-1 # convert from 1-based to 0-based\n",
    "    bStop  = int(bStop)    # keep the same since we use slices to extract syntenic blocks\n",
    "    iStart, iStop = iRange.split('..')\n",
    "    iStart = int(iStart)-1 # convert from 1-based to 0-based\n",
    "    iStop  = int(iStop)    # keep the same since we use slices to extract syntenic blocks\n",
    "    return (bChr, bStart, bStop, bStrand, iChr, iStart, iStop)"
   ]
  },
  {
   "cell_type": "code",
   "execution_count": 3,
   "metadata": {
    "collapsed": false
   },
   "outputs": [],
   "source": [
    "def makeIntrogressedGenome(outfilePrefix='IntrogressedGenome',\n",
    "                           backgroundGenome='./simulate_genome/reference_genomes/bra.fa',\n",
    "                           introgressGenome='./simulate_genome/reference_genomes/bol.fa',\n",
    "                           syntenyFile='./simulate_genome/reference_genomes/bra_bol.synteny.txt',\n",
    "                           seed=1234\n",
    "                          ):\n",
    "    '''\n",
    "    Given two reference genome fasta files and the corresponding synteny file that lists\n",
    "    all syntenic regions between the genomes, generate a genome that contains\n",
    "    the replacement of one or more syntenic blocks with their corresponding regions.\n",
    "    Write the new genome to an output file and record what changes were made to a separate\n",
    "    file that can be used later to test if IntroMap got it right.\n",
    "    '''\n",
    "    with open(syntenyFile, 'r') as fh:\n",
    "        fh.readline() # Skips the header\n",
    "        # Store synteny info into a list so we can randomly choose entries\n",
    "        synteny = list()\n",
    "        for line in fh:\n",
    "            # Strip off the newline\n",
    "            line = line.strip()\n",
    "            synteny.append(line)\n",
    "\n",
    "    outputLog = outfilePrefix + '.log'\n",
    "    with open(outputLog, 'w') as fh:\n",
    "        # Now, we select a random set of 5 to 10 syntenic blocks for the introgression\n",
    "        # Although we want random data, we explicitly set a seed so the randomness is reproducible\n",
    "        # We will record the seed used in the log file.\n",
    "        random.seed(seed)\n",
    "        fh.write('Seed set to {} for this run\\n'.format(seed))\n",
    "        \n",
    "        # First determine how many introgressed regions to introduce\n",
    "        numRegions = random.choice(range(5, 11))\n",
    "        fh.write('Number of regions chosen was {}\\n'.format(numRegions))\n",
    "    \n",
    "        # Store the chosen regions in a set so we do not have duplicates\n",
    "        syntenySet = set()\n",
    "        for i in range(numRegions):\n",
    "            sChoice = random.choice(synteny)\n",
    "            fh.write('Regions chosen was:\\n{}\\n'.format(sChoice))\n",
    "            syntenySet.add(sChoice)\n",
    "    \n",
    "        # Parse the selections with parseSynteny() and store the returned tuples in a list\n",
    "        syntenyBlocks = list()\n",
    "        for s in syntenySet:\n",
    "            syntenyTuple = parseSynteny(s)\n",
    "            syntenyBlocks.append(syntenyTuple)\n",
    "    \n",
    "        # Load the genomes into dictionaries where the key is the seqid\n",
    "        bSeqRecords = dict()\n",
    "        for seqrec in SeqIO.parse(backgroundGenome, 'fasta'):\n",
    "            bSeqRecords[seqrec.id] = seqrec\n",
    "        fh.write('Loaded {} as background genome\\n'.format(backgroundGenome))\n",
    "        \n",
    "        iSeqRecords = dict()\n",
    "        for seqrec in SeqIO.parse(introgressGenome, 'fasta'):\n",
    "            iSeqRecords[seqrec.id] = seqrec\n",
    "        fh.write('Loaded {} as introgression genome\\n'.format(introgressGenome))\n",
    "        \n",
    "        outputGenome = outfilePrefix + '.fasta'\n",
    "        fh.write('Creating {}\\n'.format(outputGenome))\n",
    "        \n",
    "        # Modify backgroundGenome in place using chosen syntenic regions from the introgressGenome\n",
    "        # Perform modifications in order\n",
    "        for s in syntenyBlocks:\n",
    "            # Break out the tuple values so we can extract the slice from introgressGenome\n",
    "            bChr, bStart, bStop, bStrand, iChr, iStart, iStop = s\n",
    "            iSeq = iSeqRecords[iChr][bStart:bStop].seq\n",
    "            # reverse complement the sequence if it maps back to the '-' strand in backgroundGenome\n",
    "            if bStrand == '-':\n",
    "                iSeq = iSeq.reverse_complement()\n",
    "            # Perform the introgression\n",
    "            bSeqRecords[bChr] = bSeqRecords[bChr][:bStart] + iSeq + bSeqRecords[bChr][bStop-1:]\n",
    "            fh.write('Introgression from {}({}..{}) into {} on strand {} at ({}..{})\\n'.format(iChr, iStart+1,\n",
    "                                                                                               iStop, bChr,\n",
    "                                                                                               bStrand, bStart+1,\n",
    "                                                                                               bStop))\n",
    "        fh.write('Introgressions completed, writing out to file {}\\n'.format(outputGenome))\n",
    "        result = SeqIO.write(bSeqRecords.values(), outputGenome, 'fasta')\n",
    "        fh.write('{} records written\\n'.format(result))"
   ]
  },
  {
   "cell_type": "code",
   "execution_count": 5,
   "metadata": {
    "collapsed": false
   },
   "outputs": [],
   "source": [
    "# Here, we generate three simulated introgressed genomes\n",
    "randomSeeds = [1234, 2468, 36912]\n",
    "outPrefix='20160409AC'\n",
    "for randomSeed in randomSeeds:\n",
    "    outfilePrefix = outPrefix + '-' + str(randomSeed)\n",
    "    makeIntrogressedGenome(outfilePrefix=outfilePrefix,\n",
    "                           backgroundGenome='./simulate_genome/reference_genomes/bra.fa',\n",
    "                           introgressGenome='./simulate_genome/reference_genomes/bol.fa',\n",
    "                           syntenyFile='./simulate_genome/reference_genomes/bra_bol.synteny.txt',\n",
    "                           seed=randomSeed\n",
    "                          )"
   ]
  },
  {
   "cell_type": "code",
   "execution_count": null,
   "metadata": {
    "collapsed": true
   },
   "outputs": [],
   "source": []
  }
 ],
 "metadata": {
  "kernelspec": {
   "display_name": "Python 2",
   "language": "python",
   "name": "python2"
  },
  "language_info": {
   "codemirror_mode": {
    "name": "ipython",
    "version": 2
   },
   "file_extension": ".py",
   "mimetype": "text/x-python",
   "name": "python",
   "nbconvert_exporter": "python",
   "pygments_lexer": "ipython2",
   "version": "2.7.13"
  }
 },
 "nbformat": 4,
 "nbformat_minor": 0
}
